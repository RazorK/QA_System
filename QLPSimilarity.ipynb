{
 "cells": [
  {
   "cell_type": "code",
   "execution_count": 2,
   "metadata": {},
   "outputs": [],
   "source": [
    "from __future__ import print_function\n",
    "from time import time\n",
    "\n",
    "from sklearn.feature_extraction.text import TfidfVectorizer, CountVectorizer\n",
    "from sklearn.decomposition import NMF, LatentDirichletAllocation\n",
    "from sklearn.datasets import fetch_20newsgroups\n",
    "\n",
    "import pickle\n",
    "from preprocess import *"
   ]
  },
  {
   "cell_type": "code",
   "execution_count": 3,
   "metadata": {},
   "outputs": [],
   "source": [
    "n_components = 51"
   ]
  },
  {
   "cell_type": "code",
   "execution_count": 4,
   "metadata": {},
   "outputs": [],
   "source": [
    "def getQLPSortedIndexList(question, cv, tf, lda,cwlist, lam, u):\n",
    "    # should return list of \n",
    "    simiList = []\n",
    "    qes = cv.transform([question.content])[0].toarray()[0]\n",
    "    for row in tf:\n",
    "        prob = 1\n",
    "        answerDis = lda.transform([row]).tolist()[0]\n",
    "        for i in range(len(qes)):\n",
    "            if(qes[i] == 0): continue\n",
    "            pseudo = (row[i] + u * cwlist[i]) / (u + sum(row))\n",
    "            \n",
    "            # calculate plda\n",
    "            plda = 0\n",
    "            \n",
    "            # traverse topic\n",
    "            for topic_idx, topic in enumerate(lda.components_):\n",
    "                plda += answerDis[topic_idx] * topic.item(i)*qes[i]\n",
    "                \n",
    "            prob *= lam*pseudo + (1-lam) * plda\n",
    "        \n",
    "        simiList.append(prob)\n",
    "    # sort the similarity list, and return the index list.\n",
    "    res = list(range(len(simiList)))\n",
    "    return sorted(res, key = lambda i : simiList[i], reverse= True)\n",
    "    "
   ]
  },
  {
   "cell_type": "code",
   "execution_count": 5,
   "metadata": {},
   "outputs": [],
   "source": [
    "X, cv, answers, questions, word_ratio, answer_mapping = generate_count_vectorizer()\n",
    "X = X.toarray()"
   ]
  },
  {
   "cell_type": "code",
   "execution_count": 6,
   "metadata": {},
   "outputs": [],
   "source": [
    "lda = LatentDirichletAllocation(n_components=n_components, max_iter=300,\n",
    "                                learning_method='online',\n",
    "                                learning_offset=50.,\n",
    "                                random_state=0)"
   ]
  },
  {
   "cell_type": "code",
   "execution_count": 7,
   "metadata": {},
   "outputs": [
    {
     "data": {
      "text/plain": [
       "LatentDirichletAllocation(batch_size=128, doc_topic_prior=None,\n",
       "             evaluate_every=-1, learning_decay=0.7,\n",
       "             learning_method='online', learning_offset=50.0,\n",
       "             max_doc_update_iter=100, max_iter=300, mean_change_tol=0.001,\n",
       "             n_components=51, n_jobs=1, n_topics=None, perp_tol=0.1,\n",
       "             random_state=0, topic_word_prior=None,\n",
       "             total_samples=1000000.0, verbose=0)"
      ]
     },
     "execution_count": 7,
     "metadata": {},
     "output_type": "execute_result"
    }
   ],
   "source": [
    "lda.fit(X)"
   ]
  },
  {
   "cell_type": "code",
   "execution_count": 8,
   "metadata": {},
   "outputs": [
    {
     "name": "stdout",
     "output_type": "stream",
     "text": [
      "[0 0 0 ... 0 0 0]\n",
      "[0.00025799793601663577, 0.00025799793601663577, 0.00025799793601663577, 0.00025799793601663577, 0.5286416063119729, 0.00025799793601663577, 0.00025799793601663577, 0.00025799793601663577, 0.00025799793601663577, 0.00025799793601663577, 0.030683403003062045, 0.00025799793601663577, 0.00025799793601663577, 0.00025799793601663577, 0.00025799793601663577, 0.00025799793601663577, 0.00025799793601663577, 0.00025799793601663577, 0.00025799793601663577, 0.00025799793601663577, 0.00025799793601663577, 0.00025799793601663577, 0.00025799793601663577, 0.00025799793601663577, 0.12170893900167384, 0.00025799793601663577, 0.00025799793601663577, 0.00025799793601663577, 0.00025799793601663577, 0.00025799793601663577, 0.00025799793601663577, 0.00025799793601663577, 0.00025799793601663577, 0.00025799793601663577, 0.00025799793601663577, 0.00025799793601663577, 0.00025799793601663577, 0.00025799793601663577, 0.00025799793601663577, 0.00025799793601663577, 0.30684014869050935, 0.00025799793601663577, 0.00025799793601663577, 0.00025799793601663577, 0.00025799793601663577, 0.00025799793601663577, 0.00025799793601663577, 0.00025799793601663577, 0.00025799793601663577, 0.00025799793601663577, 0.00025799793601663577]\n"
     ]
    }
   ],
   "source": [
    "row = X[2]\n",
    "print(row)\n",
    "d = lda.transform([row]).tolist()[0]\n",
    "print(d)"
   ]
  },
  {
   "cell_type": "code",
   "execution_count": 9,
   "metadata": {},
   "outputs": [],
   "source": [
    "def print_top_words(model, feature_names, n_top_words):\n",
    "    for topic_idx, topic in enumerate(model.components_):\n",
    "        message = \"Topic #%d: \" % topic_idx\n",
    "        message += \" \".join([feature_names[i]\n",
    "                             for i in topic.argsort()[:-n_top_words - 1:-1]])\n",
    "        print(message)"
   ]
  },
  {
   "cell_type": "code",
   "execution_count": 10,
   "metadata": {},
   "outputs": [],
   "source": [
    "ques = answers[17]"
   ]
  },
  {
   "cell_type": "code",
   "execution_count": 17,
   "metadata": {},
   "outputs": [],
   "source": [
    "def evalQuestion(index):\n",
    "    l = getQLPSortedIndexList(questions[index], cv, X, lda, word_ratio, 0.3, 1)\n",
    "    tar = answer_mapping[questions[index].peer_idx]\n",
    "    # find the anser\n",
    "    for i in range(len(l)):\n",
    "        if tar == l[i]:\n",
    "            return i"
   ]
  },
  {
   "cell_type": "code",
   "execution_count": 25,
   "metadata": {},
   "outputs": [],
   "source": [
    "def evalCheck(index):\n",
    "    ques = answers[index]\n",
    "    l = getQLPSortedIndexList(ques, cv, X, lda, word_ratio, 0.3, 1)\n",
    "    tar = answer_mapping[answers[index].idx]\n",
    "    # find the anser\n",
    "    for i in range(len(l)):\n",
    "        if tar == l[i]:\n",
    "            return i"
   ]
  },
  {
   "cell_type": "code",
   "execution_count": 30,
   "metadata": {
    "scrolled": false
   },
   "outputs": [
    {
     "name": "stdout",
     "output_type": "stream",
     "text": [
      "172\n",
      "0\n",
      "24\n",
      "151\n",
      "451\n",
      "590\n",
      "41\n",
      "2\n",
      "541\n",
      "495\n",
      "555\n",
      "50\n",
      "96\n",
      "14\n",
      "420\n",
      "0\n",
      "10\n",
      "547\n",
      "469\n",
      "321\n",
      "464\n",
      "17\n",
      "537\n",
      "33\n",
      "579\n",
      "302\n",
      "392\n",
      "18\n",
      "124\n",
      "486\n"
     ]
    }
   ],
   "source": [
    "for i in range(50, 80):\n",
    "    print(evalQuestion(i))"
   ]
  },
  {
   "cell_type": "code",
   "execution_count": 33,
   "metadata": {},
   "outputs": [
    {
     "name": "stdout",
     "output_type": "stream",
     "text": [
      "0\n",
      "0\n",
      "0\n",
      "14\n",
      "2\n",
      "0\n",
      "1\n",
      "4\n",
      "8\n",
      "0\n",
      "0\n",
      "38\n",
      "35\n",
      "2\n",
      "0\n",
      "4\n",
      "2\n",
      "2\n",
      "123\n",
      "0\n"
     ]
    }
   ],
   "source": [
    "for i in range(30, 50):\n",
    "    print(evalCheck(i))"
   ]
  },
  {
   "cell_type": "code",
   "execution_count": null,
   "metadata": {},
   "outputs": [],
   "source": [
    "l = getQLPSortedIndexList(ques, cv, X, lda, word_ratio, 0, 1)\n",
    "print(l)"
   ]
  },
  {
   "cell_type": "code",
   "execution_count": null,
   "metadata": {},
   "outputs": [],
   "source": [
    "sum(cv.transform([ques.content])[0].toarray()[0])"
   ]
  },
  {
   "cell_type": "code",
   "execution_count": null,
   "metadata": {},
   "outputs": [],
   "source": [
    "tf_feature_names = cv.get_feature_names()\n",
    "print_top_words(lda, tf_feature_names, 10)"
   ]
  },
  {
   "cell_type": "code",
   "execution_count": null,
   "metadata": {},
   "outputs": [],
   "source": [
    "simiList = [3,2,1,5,9]\n",
    "res = list(range(len(simiList)))\n",
    "print(sorted(res, key = lambda i : simiList[i], reverse= True))"
   ]
  },
  {
   "cell_type": "code",
   "execution_count": null,
   "metadata": {},
   "outputs": [],
   "source": []
  }
 ],
 "metadata": {
  "kernelspec": {
   "display_name": "Python 3",
   "language": "python",
   "name": "python3"
  },
  "language_info": {
   "codemirror_mode": {
    "name": "ipython",
    "version": 3
   },
   "file_extension": ".py",
   "mimetype": "text/x-python",
   "name": "python",
   "nbconvert_exporter": "python",
   "pygments_lexer": "ipython3",
   "version": "3.6.4"
  }
 },
 "nbformat": 4,
 "nbformat_minor": 2
}
